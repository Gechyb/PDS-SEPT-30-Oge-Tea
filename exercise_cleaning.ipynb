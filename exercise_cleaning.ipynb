{
    "cells": [
        {
            "cell_type": "markdown",
            "metadata": {},
            "source": [
                "# Cleaning Data Exercises\n",
                "\n",
                "In this exercise, we'll be returning to the American Community Survey data we used previously to measuring racial income inequality in the United States. In today's exercise, we'll be using it to measure the returns to education and how those returns vary by race and gender.\n",
                "\n"
            ]
        },
        {
            "cell_type": "markdown",
            "metadata": {},
            "source": [
                "\n",
                "## Gradescope Autograding\n",
                "\n",
                "Please follow [all standard guidance](https://www.practicaldatascience.org/html/autograder_guidelines.html) for submitting this assignment to the Gradescope autograder, including storing your solutions in a dictionary called `results` and ensuring your notebook runs from the start to completion without any errors.\n",
                "\n",
                "For this assignment, please name your file `exercise_cleaning.ipynb` before uploading.\n",
                "\n",
                "You can check that you have answers for all questions in your `results` dictionary with this code:\n",
                "\n",
                "```python\n",
                "assert set(results.keys()) == {\n",
                "    \"ex5_age_young\",\n",
                "    \"ex5_age_old\",\n",
                "    \"ex7_avg_age\",\n",
                "    \"ex8_avg_age\",\n",
                "    \"ex9_num_college\",\n",
                "    \"ex11_share_male_w_degrees\",\n",
                "    \"ex11_share_female_w_degrees\",\n",
                "    \"ex12_comparing\",\n",
                "}\n",
                "```\n",
                "\n",
                "\n",
                "### Submission Limits\n",
                "\n",
                "Please remember that you are **only allowed three submissions to the autograder.** Your last submission (if you submit 3 or fewer times), or your third submission (if you submit more than 3 times) will determine your grade Submissions that error out will **not** count against this total."
            ]
        },
        {
            "cell_type": "markdown",
            "metadata": {},
            "source": [
                "## Exercises\n",
                "\n",
                "### Exercise 1\n",
                "\n",
                "For these cleaning exercises, we'll return to the ACS data we've used before one last time. We'll be working with `US_ACS_2017_10pct_sample.dta`. Import the data (please use url for the autograder)."
            ]
        },
        {
            "cell_type": "code",
            "execution_count": 5,
            "metadata": {},
            "outputs": [],
            "source": [
                "import numpy as np\n",
                "import pandas as pd\n",
                "\n",
                "pd.set_option(\"mode.copy_on_write\", True)"
            ]
        },
        {
            "cell_type": "code",
            "execution_count": 6,
            "metadata": {},
            "outputs": [
                {
                    "data": {
                        "application/vnd.microsoft.datawrangler.viewer.v0+json": {
                            "columns": [
                                {
                                    "name": "index",
                                    "rawType": "int64",
                                    "type": "integer"
                                },
                                {
                                    "name": "year",
                                    "rawType": "category",
                                    "type": "unknown"
                                },
                                {
                                    "name": "datanum",
                                    "rawType": "int8",
                                    "type": "integer"
                                },
                                {
                                    "name": "serial",
                                    "rawType": "int32",
                                    "type": "integer"
                                },
                                {
                                    "name": "cbserial",
                                    "rawType": "float64",
                                    "type": "float"
                                },
                                {
                                    "name": "numprec",
                                    "rawType": "category",
                                    "type": "unknown"
                                },
                                {
                                    "name": "subsamp",
                                    "rawType": "category",
                                    "type": "unknown"
                                },
                                {
                                    "name": "hhwt",
                                    "rawType": "int16",
                                    "type": "integer"
                                },
                                {
                                    "name": "hhtype",
                                    "rawType": "category",
                                    "type": "unknown"
                                },
                                {
                                    "name": "cluster",
                                    "rawType": "float64",
                                    "type": "float"
                                },
                                {
                                    "name": "adjust",
                                    "rawType": "float64",
                                    "type": "float"
                                },
                                {
                                    "name": "cpi99",
                                    "rawType": "float64",
                                    "type": "float"
                                },
                                {
                                    "name": "region",
                                    "rawType": "category",
                                    "type": "unknown"
                                },
                                {
                                    "name": "stateicp",
                                    "rawType": "category",
                                    "type": "unknown"
                                },
                                {
                                    "name": "statefip",
                                    "rawType": "category",
                                    "type": "unknown"
                                },
                                {
                                    "name": "countyicp",
                                    "rawType": "int16",
                                    "type": "integer"
                                },
                                {
                                    "name": "countyfip",
                                    "rawType": "int16",
                                    "type": "integer"
                                },
                                {
                                    "name": "metro",
                                    "rawType": "category",
                                    "type": "unknown"
                                },
                                {
                                    "name": "city",
                                    "rawType": "category",
                                    "type": "unknown"
                                },
                                {
                                    "name": "citypop",
                                    "rawType": "int32",
                                    "type": "integer"
                                },
                                {
                                    "name": "strata",
                                    "rawType": "int32",
                                    "type": "integer"
                                },
                                {
                                    "name": "gq",
                                    "rawType": "category",
                                    "type": "unknown"
                                },
                                {
                                    "name": "farm",
                                    "rawType": "category",
                                    "type": "unknown"
                                },
                                {
                                    "name": "ownershp",
                                    "rawType": "category",
                                    "type": "unknown"
                                },
                                {
                                    "name": "ownershpd",
                                    "rawType": "category",
                                    "type": "unknown"
                                },
                                {
                                    "name": "mortgage",
                                    "rawType": "category",
                                    "type": "unknown"
                                },
                                {
                                    "name": "mortgag2",
                                    "rawType": "category",
                                    "type": "unknown"
                                },
                                {
                                    "name": "mortamt1",
                                    "rawType": "int16",
                                    "type": "integer"
                                },
                                {
                                    "name": "mortamt2",
                                    "rawType": "int16",
                                    "type": "integer"
                                },
                                {
                                    "name": "respmode",
                                    "rawType": "category",
                                    "type": "unknown"
                                },
                                {
                                    "name": "pernum",
                                    "rawType": "int8",
                                    "type": "integer"
                                },
                                {
                                    "name": "cbpernum",
                                    "rawType": "int8",
                                    "type": "integer"
                                },
                                {
                                    "name": "perwt",
                                    "rawType": "int16",
                                    "type": "integer"
                                },
                                {
                                    "name": "slwt",
                                    "rawType": "int16",
                                    "type": "integer"
                                },
                                {
                                    "name": "famunit",
                                    "rawType": "category",
                                    "type": "unknown"
                                },
                                {
                                    "name": "sex",
                                    "rawType": "category",
                                    "type": "unknown"
                                },
                                {
                                    "name": "age",
                                    "rawType": "category",
                                    "type": "unknown"
                                },
                                {
                                    "name": "marst",
                                    "rawType": "category",
                                    "type": "unknown"
                                },
                                {
                                    "name": "birthyr",
                                    "rawType": "int16",
                                    "type": "integer"
                                },
                                {
                                    "name": "race",
                                    "rawType": "category",
                                    "type": "unknown"
                                },
                                {
                                    "name": "raced",
                                    "rawType": "category",
                                    "type": "unknown"
                                },
                                {
                                    "name": "hispan",
                                    "rawType": "category",
                                    "type": "unknown"
                                },
                                {
                                    "name": "hispand",
                                    "rawType": "category",
                                    "type": "unknown"
                                },
                                {
                                    "name": "bpl",
                                    "rawType": "category",
                                    "type": "unknown"
                                },
                                {
                                    "name": "bpld",
                                    "rawType": "category",
                                    "type": "unknown"
                                },
                                {
                                    "name": "citizen",
                                    "rawType": "category",
                                    "type": "unknown"
                                },
                                {
                                    "name": "yrnatur",
                                    "rawType": "category",
                                    "type": "unknown"
                                },
                                {
                                    "name": "yrimmig",
                                    "rawType": "int16",
                                    "type": "integer"
                                },
                                {
                                    "name": "language",
                                    "rawType": "category",
                                    "type": "unknown"
                                },
                                {
                                    "name": "languaged",
                                    "rawType": "category",
                                    "type": "unknown"
                                },
                                {
                                    "name": "speakeng",
                                    "rawType": "category",
                                    "type": "unknown"
                                },
                                {
                                    "name": "hcovany",
                                    "rawType": "category",
                                    "type": "unknown"
                                },
                                {
                                    "name": "hcovpriv",
                                    "rawType": "category",
                                    "type": "unknown"
                                },
                                {
                                    "name": "hinsemp",
                                    "rawType": "category",
                                    "type": "unknown"
                                },
                                {
                                    "name": "hinspur",
                                    "rawType": "category",
                                    "type": "unknown"
                                },
                                {
                                    "name": "hinstri",
                                    "rawType": "category",
                                    "type": "unknown"
                                },
                                {
                                    "name": "hcovpub",
                                    "rawType": "category",
                                    "type": "unknown"
                                },
                                {
                                    "name": "hinscaid",
                                    "rawType": "category",
                                    "type": "unknown"
                                },
                                {
                                    "name": "hinscare",
                                    "rawType": "category",
                                    "type": "unknown"
                                },
                                {
                                    "name": "hinsva",
                                    "rawType": "category",
                                    "type": "unknown"
                                },
                                {
                                    "name": "hinsihs",
                                    "rawType": "category",
                                    "type": "unknown"
                                },
                                {
                                    "name": "school",
                                    "rawType": "category",
                                    "type": "unknown"
                                },
                                {
                                    "name": "educ",
                                    "rawType": "category",
                                    "type": "unknown"
                                },
                                {
                                    "name": "educd",
                                    "rawType": "category",
                                    "type": "unknown"
                                },
                                {
                                    "name": "gradeatt",
                                    "rawType": "category",
                                    "type": "unknown"
                                },
                                {
                                    "name": "gradeattd",
                                    "rawType": "category",
                                    "type": "unknown"
                                },
                                {
                                    "name": "schltype",
                                    "rawType": "category",
                                    "type": "unknown"
                                },
                                {
                                    "name": "degfield",
                                    "rawType": "category",
                                    "type": "unknown"
                                },
                                {
                                    "name": "degfieldd",
                                    "rawType": "category",
                                    "type": "unknown"
                                },
                                {
                                    "name": "degfield2",
                                    "rawType": "category",
                                    "type": "unknown"
                                },
                                {
                                    "name": "degfield2d",
                                    "rawType": "category",
                                    "type": "unknown"
                                },
                                {
                                    "name": "empstat",
                                    "rawType": "category",
                                    "type": "unknown"
                                },
                                {
                                    "name": "empstatd",
                                    "rawType": "category",
                                    "type": "unknown"
                                },
                                {
                                    "name": "labforce",
                                    "rawType": "category",
                                    "type": "unknown"
                                },
                                {
                                    "name": "occ",
                                    "rawType": "int16",
                                    "type": "integer"
                                },
                                {
                                    "name": "ind",
                                    "rawType": "int16",
                                    "type": "integer"
                                },
                                {
                                    "name": "classwkr",
                                    "rawType": "category",
                                    "type": "unknown"
                                },
                                {
                                    "name": "classwkrd",
                                    "rawType": "category",
                                    "type": "unknown"
                                },
                                {
                                    "name": "looking",
                                    "rawType": "category",
                                    "type": "unknown"
                                },
                                {
                                    "name": "availble",
                                    "rawType": "category",
                                    "type": "unknown"
                                },
                                {
                                    "name": "inctot",
                                    "rawType": "int32",
                                    "type": "integer"
                                },
                                {
                                    "name": "ftotinc",
                                    "rawType": "int32",
                                    "type": "integer"
                                },
                                {
                                    "name": "incwage",
                                    "rawType": "int32",
                                    "type": "integer"
                                },
                                {
                                    "name": "incbus00",
                                    "rawType": "int32",
                                    "type": "integer"
                                },
                                {
                                    "name": "incss",
                                    "rawType": "int32",
                                    "type": "integer"
                                },
                                {
                                    "name": "incwelfr",
                                    "rawType": "int32",
                                    "type": "integer"
                                },
                                {
                                    "name": "incinvst",
                                    "rawType": "int32",
                                    "type": "integer"
                                },
                                {
                                    "name": "incretir",
                                    "rawType": "int32",
                                    "type": "integer"
                                },
                                {
                                    "name": "incsupp",
                                    "rawType": "int32",
                                    "type": "integer"
                                },
                                {
                                    "name": "incother",
                                    "rawType": "int32",
                                    "type": "integer"
                                },
                                {
                                    "name": "incearn",
                                    "rawType": "int32",
                                    "type": "integer"
                                },
                                {
                                    "name": "poverty",
                                    "rawType": "int16",
                                    "type": "integer"
                                },
                                {
                                    "name": "migrate1",
                                    "rawType": "category",
                                    "type": "unknown"
                                },
                                {
                                    "name": "migrate1d",
                                    "rawType": "category",
                                    "type": "unknown"
                                },
                                {
                                    "name": "migplac1",
                                    "rawType": "category",
                                    "type": "unknown"
                                },
                                {
                                    "name": "migcounty1",
                                    "rawType": "int16",
                                    "type": "integer"
                                },
                                {
                                    "name": "migmet131",
                                    "rawType": "category",
                                    "type": "unknown"
                                },
                                {
                                    "name": "vetdisab",
                                    "rawType": "category",
                                    "type": "unknown"
                                },
                                {
                                    "name": "diffrem",
                                    "rawType": "category",
                                    "type": "unknown"
                                },
                                {
                                    "name": "diffphys",
                                    "rawType": "category",
                                    "type": "unknown"
                                },
                                {
                                    "name": "diffmob",
                                    "rawType": "category",
                                    "type": "unknown"
                                },
                                {
                                    "name": "diffcare",
                                    "rawType": "category",
                                    "type": "unknown"
                                },
                                {
                                    "name": "diffsens",
                                    "rawType": "category",
                                    "type": "unknown"
                                },
                                {
                                    "name": "diffeye",
                                    "rawType": "category",
                                    "type": "unknown"
                                },
                                {
                                    "name": "diffhear",
                                    "rawType": "category",
                                    "type": "unknown"
                                }
                            ],
                            "ref": "173c00b7-a859-471d-bb24-ab394a0dbf4c",
                            "rows": [
                                [
                                    "0",
                                    "2017",
                                    "1",
                                    "177686",
                                    "2017001137013.0",
                                    "9",
                                    "64",
                                    "55",
                                    "female householder, no husband present",
                                    "2017001776861.0",
                                    "1.011189",
                                    "0.679",
                                    "pacific division",
                                    "california",
                                    "california",
                                    "370",
                                    "37",
                                    "in metropolitan area: not in central/principal city",
                                    "not in identifiable city (or size group)",
                                    "0",
                                    "374206",
                                    "additional households under 1990 definition",
                                    "non-farm",
                                    "rented",
                                    "with cash rent",
                                    "n/a",
                                    "n/a",
                                    "0",
                                    "0",
                                    "internet",
                                    "8",
                                    "8",
                                    "84",
                                    "84",
                                    "2nd family in household or group quarters",
                                    "female",
                                    "4",
                                    "never married/single",
                                    "2013",
                                    "white",
                                    "white",
                                    "mexican",
                                    "mexican",
                                    "california",
                                    "california",
                                    "n/a",
                                    "n/a",
                                    "0",
                                    "n/a or blank",
                                    "n/a or blank",
                                    "n/a (blank)",
                                    "with health insurance coverage",
                                    "without private health insurance coverage",
                                    "no insurance through employer/union",
                                    "no insurance purchased directly",
                                    "no insurance through tricare",
                                    "with public health insurance coverage",
                                    "has insurance through medicaid",
                                    "no",
                                    "no insurance through va",
                                    "no insurance through indian health service",
                                    "yes, in school",
                                    "nursery school to grade 4",
                                    "nursery school, preschool",
                                    "nursery school/preschool",
                                    "nursery school/preschool",
                                    "public school",
                                    "n/a",
                                    "n/a",
                                    "n/a",
                                    "n/a",
                                    "n/a",
                                    "n/a",
                                    "n/a",
                                    "0",
                                    "0",
                                    "n/a",
                                    "n/a",
                                    "n/a",
                                    "n/a",
                                    "9999999",
                                    "21200",
                                    "999999",
                                    "999999",
                                    "99999",
                                    "99999",
                                    "999999",
                                    "999999",
                                    "99999",
                                    "99999",
                                    "0",
                                    "63",
                                    "same house",
                                    "same house",
                                    "n/a",
                                    "0",
                                    "not in identifiable area",
                                    "n/a",
                                    "n/a",
                                    "n/a",
                                    "n/a",
                                    "n/a",
                                    "no vision or hearing difficulty",
                                    "no",
                                    "no"
                                ],
                                [
                                    "1",
                                    "2017",
                                    "1",
                                    "1200045",
                                    "2017000511574.0",
                                    "6",
                                    "79",
                                    "25",
                                    "male householder, no wife present",
                                    "2017012000451.0",
                                    "1.011189",
                                    "0.679",
                                    "west south central div",
                                    "texas",
                                    "texas",
                                    "1210",
                                    "121",
                                    "in metropolitan area: not in central/principal city",
                                    "not in identifiable city (or size group)",
                                    "0",
                                    "200448",
                                    "households under 1970 definition",
                                    "non-farm",
                                    "owned or being bought (loan)",
                                    "owned free and clear",
                                    "no, owned free and clear",
                                    "n/a",
                                    "0",
                                    "0",
                                    "mail",
                                    "3",
                                    "3",
                                    "57",
                                    "57",
                                    "1st family in household or group quarters",
                                    "female",
                                    "17",
                                    "never married/single",
                                    "2000",
                                    "white",
                                    "white",
                                    "other",
                                    "ecuadorian",
                                    "texas",
                                    "texas",
                                    "n/a",
                                    "n/a",
                                    "0",
                                    "spanish",
                                    "spanish",
                                    "yes, speaks very well",
                                    "with health insurance coverage",
                                    "with private health insurance coverage",
                                    "has insurance through employer/union",
                                    "no insurance purchased directly",
                                    "no insurance through tricare",
                                    "without public health insurance coverage",
                                    "no insurance through medicaid",
                                    "no",
                                    "no insurance through va",
                                    "no insurance through indian health service",
                                    "yes, in school",
                                    "grade 11",
                                    "grade 11",
                                    "grade 9 to grade 12",
                                    "grade 12",
                                    "public school",
                                    "n/a",
                                    "n/a",
                                    "n/a",
                                    "n/a",
                                    "employed",
                                    "at work",
                                    "yes, in the labor force",
                                    "4110",
                                    "8680",
                                    "works for wages",
                                    "wage/salary, private",
                                    "no, did not look for work",
                                    "no, other reason(s)",
                                    "6000",
                                    "93000",
                                    "6000",
                                    "0",
                                    "0",
                                    "0",
                                    "0",
                                    "0",
                                    "0",
                                    "0",
                                    "6000",
                                    "286",
                                    "same house",
                                    "same house",
                                    "n/a",
                                    "0",
                                    "not in identifiable area",
                                    "n/a",
                                    "no cognitive difficulty",
                                    "no ambulatory difficulty",
                                    "no independent living difficulty",
                                    "no",
                                    "no vision or hearing difficulty",
                                    "no",
                                    "no"
                                ],
                                [
                                    "2",
                                    "2017",
                                    "1",
                                    "70831",
                                    "2017000027012.0",
                                    "1 person record",
                                    "36",
                                    "57",
                                    "male householder, living alone",
                                    "2017000708311.0",
                                    "1.011189",
                                    "0.679",
                                    "pacific division",
                                    "california",
                                    "california",
                                    "790",
                                    "79",
                                    "in metropolitan area: central/principal city status indeterminable (mixed)",
                                    "not in identifiable city (or size group)",
                                    "0",
                                    "790106",
                                    "households under 1970 definition",
                                    "non-farm",
                                    "rented",
                                    "with cash rent",
                                    "n/a",
                                    "n/a",
                                    "0",
                                    "0",
                                    "internet",
                                    "1",
                                    "1",
                                    "58",
                                    "58",
                                    "1st family in household or group quarters",
                                    "male",
                                    "63",
                                    "separated",
                                    "1954",
                                    "white",
                                    "white",
                                    "not hispanic",
                                    "not hispanic",
                                    "california",
                                    "california",
                                    "n/a",
                                    "n/a",
                                    "0",
                                    "english",
                                    "english",
                                    "yes, speaks only english",
                                    "with health insurance coverage",
                                    "with private health insurance coverage",
                                    "has insurance through employer/union",
                                    "no insurance purchased directly",
                                    "no insurance through tricare",
                                    "without public health insurance coverage",
                                    "no insurance through medicaid",
                                    "no",
                                    "no insurance through va",
                                    "no insurance through indian health service",
                                    "no, not in school",
                                    "4 years of college",
                                    "bachelor's degree",
                                    "n/a",
                                    "n/a",
                                    "not enrolled",
                                    "family and consumer sciences",
                                    "family and consumer sciences",
                                    "n/a",
                                    "n/a",
                                    "employed",
                                    "at work",
                                    "yes, in the labor force",
                                    "540",
                                    "7870",
                                    "works for wages",
                                    "state govt employee",
                                    "not reported",
                                    "not reported",
                                    "6150",
                                    "6150",
                                    "6000",
                                    "0",
                                    "0",
                                    "0",
                                    "150",
                                    "0",
                                    "0",
                                    "0",
                                    "6000",
                                    "49",
                                    "same house",
                                    "same house",
                                    "n/a",
                                    "0",
                                    "not in identifiable area",
                                    "n/a",
                                    "has cognitive difficulty",
                                    "no ambulatory difficulty",
                                    "no independent living difficulty",
                                    "no",
                                    "no vision or hearing difficulty",
                                    "no",
                                    "no"
                                ],
                                [
                                    "3",
                                    "2017",
                                    "1",
                                    "557128",
                                    "2017000760588.0",
                                    "2",
                                    "10",
                                    "98",
                                    "married-couple family household",
                                    "2017005571281.0",
                                    "1.011189",
                                    "0.679",
                                    "west south central div",
                                    "louisiana",
                                    "louisiana",
                                    "0",
                                    "0",
                                    "metropolitan status indeterminable (mixed)",
                                    "not in identifiable city (or size group)",
                                    "0",
                                    "180022",
                                    "households under 1970 definition",
                                    "non-farm",
                                    "rented",
                                    "no cash rent",
                                    "n/a",
                                    "n/a",
                                    "0",
                                    "0",
                                    "mail",
                                    "1",
                                    "1",
                                    "98",
                                    "98",
                                    "1st family in household or group quarters",
                                    "female",
                                    "66",
                                    "married, spouse present",
                                    "1951",
                                    "white",
                                    "white",
                                    "not hispanic",
                                    "not hispanic",
                                    "new jersey",
                                    "new jersey",
                                    "n/a",
                                    "n/a",
                                    "0",
                                    "english",
                                    "english",
                                    "yes, speaks only english",
                                    "with health insurance coverage",
                                    "with private health insurance coverage",
                                    "no insurance through employer/union",
                                    "has insurance purchased directly",
                                    "no insurance through tricare",
                                    "with public health insurance coverage",
                                    "no insurance through medicaid",
                                    "yes",
                                    "no insurance through va",
                                    "no insurance through indian health service",
                                    "no, not in school",
                                    "grade 12",
                                    "some college, but less than 1 year",
                                    "n/a",
                                    "n/a",
                                    "not enrolled",
                                    "n/a",
                                    "n/a",
                                    "n/a",
                                    "n/a",
                                    "not in labor force",
                                    "not in labor force",
                                    "no, not in the labor force",
                                    "0",
                                    "0",
                                    "n/a",
                                    "n/a",
                                    "not reported",
                                    "not reported",
                                    "14000",
                                    "28500",
                                    "0",
                                    "0",
                                    "10300",
                                    "0",
                                    "100",
                                    "3600",
                                    "0",
                                    "0",
                                    "0",
                                    "194",
                                    "same house",
                                    "same house",
                                    "n/a",
                                    "0",
                                    "not in identifiable area",
                                    "n/a",
                                    "no cognitive difficulty",
                                    "no ambulatory difficulty",
                                    "no independent living difficulty",
                                    "no",
                                    "no vision or hearing difficulty",
                                    "no",
                                    "no"
                                ],
                                [
                                    "4",
                                    "2017",
                                    "1",
                                    "614890",
                                    "2017000811148.0",
                                    "4",
                                    "96",
                                    "54",
                                    "married-couple family household",
                                    "2017006148901.0",
                                    "1.011189",
                                    "0.679",
                                    "new england division",
                                    "massachusetts",
                                    "massachusetts",
                                    "0",
                                    "0",
                                    "in metropolitan area: not in central/principal city",
                                    "not in identifiable city (or size group)",
                                    "0",
                                    "70125",
                                    "households under 1970 definition",
                                    "non-farm",
                                    "rented",
                                    "with cash rent",
                                    "n/a",
                                    "n/a",
                                    "0",
                                    "0",
                                    "mail",
                                    "4",
                                    "4",
                                    "45",
                                    "45",
                                    "1st family in household or group quarters",
                                    "male",
                                    "1",
                                    "never married/single",
                                    "2016",
                                    "white",
                                    "white",
                                    "not hispanic",
                                    "not hispanic",
                                    "massachusetts",
                                    "massachusetts",
                                    "n/a",
                                    "n/a",
                                    "0",
                                    "n/a or blank",
                                    "n/a or blank",
                                    "n/a (blank)",
                                    "with health insurance coverage",
                                    "with private health insurance coverage",
                                    "has insurance through employer/union",
                                    "no insurance purchased directly",
                                    "no insurance through tricare",
                                    "without public health insurance coverage",
                                    "no insurance through medicaid",
                                    "no",
                                    "no insurance through va",
                                    "no insurance through indian health service",
                                    "n/a",
                                    "n/a or no schooling",
                                    "n/a",
                                    "n/a",
                                    "n/a",
                                    "n/a",
                                    "n/a",
                                    "n/a",
                                    "n/a",
                                    "n/a",
                                    "n/a",
                                    "n/a",
                                    "n/a",
                                    "0",
                                    "0",
                                    "n/a",
                                    "n/a",
                                    "n/a",
                                    "n/a",
                                    "9999999",
                                    "89000",
                                    "999999",
                                    "999999",
                                    "99999",
                                    "99999",
                                    "999999",
                                    "999999",
                                    "99999",
                                    "99999",
                                    "0",
                                    "361",
                                    "same house",
                                    "same house",
                                    "n/a",
                                    "0",
                                    "not in identifiable area",
                                    "n/a",
                                    "n/a",
                                    "n/a",
                                    "n/a",
                                    "n/a",
                                    "no vision or hearing difficulty",
                                    "no",
                                    "no"
                                ]
                            ],
                            "shape": {
                                "columns": 104,
                                "rows": 5
                            }
                        },
                        "text/html": [
                            "<div>\n",
                            "<style scoped>\n",
                            "    .dataframe tbody tr th:only-of-type {\n",
                            "        vertical-align: middle;\n",
                            "    }\n",
                            "\n",
                            "    .dataframe tbody tr th {\n",
                            "        vertical-align: top;\n",
                            "    }\n",
                            "\n",
                            "    .dataframe thead th {\n",
                            "        text-align: right;\n",
                            "    }\n",
                            "</style>\n",
                            "<table border=\"1\" class=\"dataframe\">\n",
                            "  <thead>\n",
                            "    <tr style=\"text-align: right;\">\n",
                            "      <th></th>\n",
                            "      <th>year</th>\n",
                            "      <th>datanum</th>\n",
                            "      <th>serial</th>\n",
                            "      <th>cbserial</th>\n",
                            "      <th>numprec</th>\n",
                            "      <th>subsamp</th>\n",
                            "      <th>hhwt</th>\n",
                            "      <th>hhtype</th>\n",
                            "      <th>cluster</th>\n",
                            "      <th>adjust</th>\n",
                            "      <th>...</th>\n",
                            "      <th>migcounty1</th>\n",
                            "      <th>migmet131</th>\n",
                            "      <th>vetdisab</th>\n",
                            "      <th>diffrem</th>\n",
                            "      <th>diffphys</th>\n",
                            "      <th>diffmob</th>\n",
                            "      <th>diffcare</th>\n",
                            "      <th>diffsens</th>\n",
                            "      <th>diffeye</th>\n",
                            "      <th>diffhear</th>\n",
                            "    </tr>\n",
                            "  </thead>\n",
                            "  <tbody>\n",
                            "    <tr>\n",
                            "      <th>0</th>\n",
                            "      <td>2017</td>\n",
                            "      <td>1</td>\n",
                            "      <td>177686</td>\n",
                            "      <td>2.017001e+12</td>\n",
                            "      <td>9</td>\n",
                            "      <td>64</td>\n",
                            "      <td>55</td>\n",
                            "      <td>female householder, no husband present</td>\n",
                            "      <td>2.017002e+12</td>\n",
                            "      <td>1.011189</td>\n",
                            "      <td>...</td>\n",
                            "      <td>0</td>\n",
                            "      <td>not in identifiable area</td>\n",
                            "      <td>n/a</td>\n",
                            "      <td>n/a</td>\n",
                            "      <td>n/a</td>\n",
                            "      <td>n/a</td>\n",
                            "      <td>n/a</td>\n",
                            "      <td>no vision or hearing difficulty</td>\n",
                            "      <td>no</td>\n",
                            "      <td>no</td>\n",
                            "    </tr>\n",
                            "    <tr>\n",
                            "      <th>1</th>\n",
                            "      <td>2017</td>\n",
                            "      <td>1</td>\n",
                            "      <td>1200045</td>\n",
                            "      <td>2.017001e+12</td>\n",
                            "      <td>6</td>\n",
                            "      <td>79</td>\n",
                            "      <td>25</td>\n",
                            "      <td>male householder, no wife present</td>\n",
                            "      <td>2.017012e+12</td>\n",
                            "      <td>1.011189</td>\n",
                            "      <td>...</td>\n",
                            "      <td>0</td>\n",
                            "      <td>not in identifiable area</td>\n",
                            "      <td>n/a</td>\n",
                            "      <td>no cognitive difficulty</td>\n",
                            "      <td>no ambulatory difficulty</td>\n",
                            "      <td>no independent living difficulty</td>\n",
                            "      <td>no</td>\n",
                            "      <td>no vision or hearing difficulty</td>\n",
                            "      <td>no</td>\n",
                            "      <td>no</td>\n",
                            "    </tr>\n",
                            "    <tr>\n",
                            "      <th>2</th>\n",
                            "      <td>2017</td>\n",
                            "      <td>1</td>\n",
                            "      <td>70831</td>\n",
                            "      <td>2.017000e+12</td>\n",
                            "      <td>1 person record</td>\n",
                            "      <td>36</td>\n",
                            "      <td>57</td>\n",
                            "      <td>male householder, living alone</td>\n",
                            "      <td>2.017001e+12</td>\n",
                            "      <td>1.011189</td>\n",
                            "      <td>...</td>\n",
                            "      <td>0</td>\n",
                            "      <td>not in identifiable area</td>\n",
                            "      <td>n/a</td>\n",
                            "      <td>has cognitive difficulty</td>\n",
                            "      <td>no ambulatory difficulty</td>\n",
                            "      <td>no independent living difficulty</td>\n",
                            "      <td>no</td>\n",
                            "      <td>no vision or hearing difficulty</td>\n",
                            "      <td>no</td>\n",
                            "      <td>no</td>\n",
                            "    </tr>\n",
                            "    <tr>\n",
                            "      <th>3</th>\n",
                            "      <td>2017</td>\n",
                            "      <td>1</td>\n",
                            "      <td>557128</td>\n",
                            "      <td>2.017001e+12</td>\n",
                            "      <td>2</td>\n",
                            "      <td>10</td>\n",
                            "      <td>98</td>\n",
                            "      <td>married-couple family household</td>\n",
                            "      <td>2.017006e+12</td>\n",
                            "      <td>1.011189</td>\n",
                            "      <td>...</td>\n",
                            "      <td>0</td>\n",
                            "      <td>not in identifiable area</td>\n",
                            "      <td>n/a</td>\n",
                            "      <td>no cognitive difficulty</td>\n",
                            "      <td>no ambulatory difficulty</td>\n",
                            "      <td>no independent living difficulty</td>\n",
                            "      <td>no</td>\n",
                            "      <td>no vision or hearing difficulty</td>\n",
                            "      <td>no</td>\n",
                            "      <td>no</td>\n",
                            "    </tr>\n",
                            "    <tr>\n",
                            "      <th>4</th>\n",
                            "      <td>2017</td>\n",
                            "      <td>1</td>\n",
                            "      <td>614890</td>\n",
                            "      <td>2.017001e+12</td>\n",
                            "      <td>4</td>\n",
                            "      <td>96</td>\n",
                            "      <td>54</td>\n",
                            "      <td>married-couple family household</td>\n",
                            "      <td>2.017006e+12</td>\n",
                            "      <td>1.011189</td>\n",
                            "      <td>...</td>\n",
                            "      <td>0</td>\n",
                            "      <td>not in identifiable area</td>\n",
                            "      <td>n/a</td>\n",
                            "      <td>n/a</td>\n",
                            "      <td>n/a</td>\n",
                            "      <td>n/a</td>\n",
                            "      <td>n/a</td>\n",
                            "      <td>no vision or hearing difficulty</td>\n",
                            "      <td>no</td>\n",
                            "      <td>no</td>\n",
                            "    </tr>\n",
                            "  </tbody>\n",
                            "</table>\n",
                            "<p>5 rows × 104 columns</p>\n",
                            "</div>"
                        ],
                        "text/plain": [
                            "   year  datanum   serial      cbserial          numprec subsamp  hhwt  \\\n",
                            "0  2017        1   177686  2.017001e+12                9      64    55   \n",
                            "1  2017        1  1200045  2.017001e+12                6      79    25   \n",
                            "2  2017        1    70831  2.017000e+12  1 person record      36    57   \n",
                            "3  2017        1   557128  2.017001e+12                2      10    98   \n",
                            "4  2017        1   614890  2.017001e+12                4      96    54   \n",
                            "\n",
                            "                                   hhtype       cluster    adjust  ...  \\\n",
                            "0  female householder, no husband present  2.017002e+12  1.011189  ...   \n",
                            "1       male householder, no wife present  2.017012e+12  1.011189  ...   \n",
                            "2          male householder, living alone  2.017001e+12  1.011189  ...   \n",
                            "3         married-couple family household  2.017006e+12  1.011189  ...   \n",
                            "4         married-couple family household  2.017006e+12  1.011189  ...   \n",
                            "\n",
                            "   migcounty1                 migmet131 vetdisab                   diffrem  \\\n",
                            "0           0  not in identifiable area      n/a                       n/a   \n",
                            "1           0  not in identifiable area      n/a   no cognitive difficulty   \n",
                            "2           0  not in identifiable area      n/a  has cognitive difficulty   \n",
                            "3           0  not in identifiable area      n/a   no cognitive difficulty   \n",
                            "4           0  not in identifiable area      n/a                       n/a   \n",
                            "\n",
                            "                   diffphys                           diffmob diffcare  \\\n",
                            "0                       n/a                               n/a      n/a   \n",
                            "1  no ambulatory difficulty  no independent living difficulty       no   \n",
                            "2  no ambulatory difficulty  no independent living difficulty       no   \n",
                            "3  no ambulatory difficulty  no independent living difficulty       no   \n",
                            "4                       n/a                               n/a      n/a   \n",
                            "\n",
                            "                          diffsens  diffeye  diffhear  \n",
                            "0  no vision or hearing difficulty       no        no  \n",
                            "1  no vision or hearing difficulty       no        no  \n",
                            "2  no vision or hearing difficulty       no        no  \n",
                            "3  no vision or hearing difficulty       no        no  \n",
                            "4  no vision or hearing difficulty       no        no  \n",
                            "\n",
                            "[5 rows x 104 columns]"
                        ]
                    },
                    "execution_count": 6,
                    "metadata": {},
                    "output_type": "execute_result"
                }
            ],
            "source": [
                "acs = pd.read_stata(\n",
                "    \"https://github.com/nickeubank/MIDS_Data/raw/refs/heads/master/US_AmericanCommunitySurvey/US_ACS_2017_10pct_sample.dta\"\n",
                ")\n",
                "acs.head()"
            ]
        },
        {
            "cell_type": "markdown",
            "metadata": {},
            "source": [
                "### Exercise 2\n",
                "\n",
                "For our exercises today, we'll focus on `age`, `sex`, `educ` (education), and `inctot` (total income). Subset your data to those variables, and quickly look at a sample of 10 rows."
            ]
        },
        {
            "cell_type": "code",
            "execution_count": 7,
            "metadata": {},
            "outputs": [],
            "source": [
                "acs2 = acs[[\"age\", \"sex\", \"educ\", \"inctot\"]]"
            ]
        },
        {
            "cell_type": "markdown",
            "metadata": {},
            "source": [
                "### Exercise 3\n",
                "\n",
                "As before, all the values of `9999999` have the potential to cause us real problems, so replace all the values of `inctot` that are `9999999` with `np.nan`. "
            ]
        },
        {
            "cell_type": "code",
            "execution_count": 8,
            "metadata": {},
            "outputs": [],
            "source": [
                "acs2 = acs2.replace(9999999, np.nan)"
            ]
        },
        {
            "cell_type": "markdown",
            "metadata": {},
            "source": [
                "### Exercise 4\n",
                "\n",
                "Attempt to calculate the average age of people in our data. What do you get? Why are you getting that error?\n",
                "\n",
                "You *should* get an error in trying to answer this question, but **PLEASE LEAVE THE CODE THAT GENERATES THIS ERROR COMMENTED OUT SO YOUR NOTEBOOK WILL RUN IN THE AUTOGRADER**. \n",
                "\n",
                "Then talk about the error in a markdown cell."
            ]
        },
        {
            "cell_type": "code",
            "execution_count": 9,
            "metadata": {},
            "outputs": [],
            "source": [
                "# acs2[\"age\"].mean()"
            ]
        },
        {
            "cell_type": "markdown",
            "metadata": {},
            "source": [
                "The error shows us that age is a categorical variable and it does not support numeric operations. "
            ]
        },
        {
            "cell_type": "markdown",
            "metadata": {},
            "source": [
                "### Exercise 5\n",
                "\n",
                "We want to be able to calculate things using age, so we need it to be a numeric type. Check the current type of `age`, and look at all the values of `age` to figure out why it's categorical and not numeric. You should find two problematic categories. Store the values of these categories in `\"ex5_age_young\"` and `\"ex5_age_old\"` (once you find them, it should be clear which is which)."
            ]
        },
        {
            "cell_type": "code",
            "execution_count": 10,
            "metadata": {},
            "outputs": [
                {
                    "data": {
                        "text/plain": [
                            "CategoricalDtype(categories=['less than 1 year old', '1', '2', '3', '4', '5', '6', '7',\n",
                            "                  '8', '9', '10', '11', '12', '13', '14', '15', '16', '17',\n",
                            "                  '18', '19', '20', '21', '22', '23', '24', '25', '26', '27',\n",
                            "                  '28', '29', '30', '31', '32', '33', '34', '35', '36', '37',\n",
                            "                  '38', '39', '40', '41', '42', '43', '44', '45', '46', '47',\n",
                            "                  '48', '49', '50', '51', '52', '53', '54', '55', '56', '57',\n",
                            "                  '58', '59', '60', '61', '62', '63', '64', '65', '66', '67',\n",
                            "                  '68', '69', '70', '71', '72', '73', '74', '75', '76', '77',\n",
                            "                  '78', '79', '80', '81', '82', '83', '84', '85', '86', '87',\n",
                            "                  '88', '89', '90 (90+ in 1980 and 1990)', '91', '92', '93',\n",
                            "                  '94', '95', '96'],\n",
                            ", ordered=True, categories_dtype=object)"
                        ]
                    },
                    "execution_count": 10,
                    "metadata": {},
                    "output_type": "execute_result"
                }
            ],
            "source": [
                "acs2[\"age\"].dtypes"
            ]
        },
        {
            "cell_type": "code",
            "execution_count": 11,
            "metadata": {},
            "outputs": [
                {
                    "data": {
                        "application/vnd.microsoft.datawrangler.viewer.v0+json": {
                            "columns": [
                                {
                                    "name": "index",
                                    "rawType": "int64",
                                    "type": "integer"
                                },
                                {
                                    "name": "age",
                                    "rawType": "category",
                                    "type": "unknown"
                                },
                                {
                                    "name": "sex",
                                    "rawType": "category",
                                    "type": "unknown"
                                },
                                {
                                    "name": "educ",
                                    "rawType": "category",
                                    "type": "unknown"
                                },
                                {
                                    "name": "inctot",
                                    "rawType": "float64",
                                    "type": "float"
                                }
                            ],
                            "ref": "627a4313-5294-46f2-950c-5ae032a2cd50",
                            "rows": [
                                [
                                    "37",
                                    "less than 1 year old",
                                    "female",
                                    "n/a or no schooling",
                                    null
                                ],
                                [
                                    "90",
                                    "less than 1 year old",
                                    "female",
                                    "n/a or no schooling",
                                    null
                                ],
                                [
                                    "140",
                                    "less than 1 year old",
                                    "female",
                                    "n/a or no schooling",
                                    null
                                ],
                                [
                                    "179",
                                    "less than 1 year old",
                                    "female",
                                    "n/a or no schooling",
                                    null
                                ],
                                [
                                    "359",
                                    "90 (90+ in 1980 and 1990)",
                                    "female",
                                    "1 year of college",
                                    "6000.0"
                                ],
                                [
                                    "392",
                                    "less than 1 year old",
                                    "female",
                                    "n/a or no schooling",
                                    null
                                ],
                                [
                                    "403",
                                    "less than 1 year old",
                                    "female",
                                    "n/a or no schooling",
                                    null
                                ],
                                [
                                    "556",
                                    "90 (90+ in 1980 and 1990)",
                                    "female",
                                    "grade 12",
                                    "27100.0"
                                ],
                                [
                                    "575",
                                    "less than 1 year old",
                                    "male",
                                    "n/a or no schooling",
                                    null
                                ],
                                [
                                    "587",
                                    "90 (90+ in 1980 and 1990)",
                                    "female",
                                    "grade 9",
                                    "2000.0"
                                ],
                                [
                                    "617",
                                    "90 (90+ in 1980 and 1990)",
                                    "male",
                                    "5+ years of college",
                                    "7200.0"
                                ],
                                [
                                    "658",
                                    "less than 1 year old",
                                    "female",
                                    "n/a or no schooling",
                                    null
                                ],
                                [
                                    "686",
                                    "less than 1 year old",
                                    "female",
                                    "n/a or no schooling",
                                    null
                                ],
                                [
                                    "816",
                                    "less than 1 year old",
                                    "female",
                                    "n/a or no schooling",
                                    null
                                ],
                                [
                                    "827",
                                    "less than 1 year old",
                                    "female",
                                    "n/a or no schooling",
                                    null
                                ],
                                [
                                    "879",
                                    "less than 1 year old",
                                    "male",
                                    "n/a or no schooling",
                                    null
                                ],
                                [
                                    "899",
                                    "90 (90+ in 1980 and 1990)",
                                    "female",
                                    "nursery school to grade 4",
                                    "31100.0"
                                ],
                                [
                                    "943",
                                    "less than 1 year old",
                                    "female",
                                    "n/a or no schooling",
                                    null
                                ],
                                [
                                    "967",
                                    "less than 1 year old",
                                    "male",
                                    "n/a or no schooling",
                                    null
                                ],
                                [
                                    "994",
                                    "less than 1 year old",
                                    "male",
                                    "n/a or no schooling",
                                    null
                                ],
                                [
                                    "1003",
                                    "less than 1 year old",
                                    "female",
                                    "n/a or no schooling",
                                    null
                                ],
                                [
                                    "1023",
                                    "less than 1 year old",
                                    "female",
                                    "n/a or no schooling",
                                    null
                                ],
                                [
                                    "1121",
                                    "less than 1 year old",
                                    "male",
                                    "n/a or no schooling",
                                    null
                                ],
                                [
                                    "1136",
                                    "less than 1 year old",
                                    "male",
                                    "n/a or no schooling",
                                    null
                                ],
                                [
                                    "1152",
                                    "90 (90+ in 1980 and 1990)",
                                    "female",
                                    "grade 9",
                                    "10700.0"
                                ],
                                [
                                    "1233",
                                    "less than 1 year old",
                                    "female",
                                    "n/a or no schooling",
                                    null
                                ],
                                [
                                    "1360",
                                    "less than 1 year old",
                                    "female",
                                    "n/a or no schooling",
                                    null
                                ],
                                [
                                    "1552",
                                    "less than 1 year old",
                                    "male",
                                    "n/a or no schooling",
                                    null
                                ],
                                [
                                    "1653",
                                    "less than 1 year old",
                                    "male",
                                    "n/a or no schooling",
                                    null
                                ],
                                [
                                    "1713",
                                    "90 (90+ in 1980 and 1990)",
                                    "female",
                                    "grade 12",
                                    "1400.0"
                                ],
                                [
                                    "2062",
                                    "less than 1 year old",
                                    "male",
                                    "n/a or no schooling",
                                    null
                                ],
                                [
                                    "2089",
                                    "less than 1 year old",
                                    "female",
                                    "n/a or no schooling",
                                    null
                                ],
                                [
                                    "2117",
                                    "less than 1 year old",
                                    "female",
                                    "n/a or no schooling",
                                    null
                                ],
                                [
                                    "2356",
                                    "less than 1 year old",
                                    "male",
                                    "n/a or no schooling",
                                    null
                                ],
                                [
                                    "2386",
                                    "90 (90+ in 1980 and 1990)",
                                    "female",
                                    "5+ years of college",
                                    "81500.0"
                                ],
                                [
                                    "2406",
                                    "less than 1 year old",
                                    "male",
                                    "n/a or no schooling",
                                    null
                                ],
                                [
                                    "2678",
                                    "less than 1 year old",
                                    "male",
                                    "n/a or no schooling",
                                    null
                                ],
                                [
                                    "2885",
                                    "less than 1 year old",
                                    "female",
                                    "n/a or no schooling",
                                    null
                                ],
                                [
                                    "3005",
                                    "less than 1 year old",
                                    "male",
                                    "n/a or no schooling",
                                    null
                                ],
                                [
                                    "3111",
                                    "90 (90+ in 1980 and 1990)",
                                    "male",
                                    "grade 12",
                                    "11500.0"
                                ],
                                [
                                    "3146",
                                    "less than 1 year old",
                                    "male",
                                    "n/a or no schooling",
                                    null
                                ],
                                [
                                    "3195",
                                    "less than 1 year old",
                                    "male",
                                    "n/a or no schooling",
                                    null
                                ],
                                [
                                    "3209",
                                    "less than 1 year old",
                                    "male",
                                    "n/a or no schooling",
                                    null
                                ],
                                [
                                    "3237",
                                    "less than 1 year old",
                                    "male",
                                    "n/a or no schooling",
                                    null
                                ],
                                [
                                    "3318",
                                    "less than 1 year old",
                                    "male",
                                    "n/a or no schooling",
                                    null
                                ],
                                [
                                    "3369",
                                    "less than 1 year old",
                                    "male",
                                    "n/a or no schooling",
                                    null
                                ],
                                [
                                    "3484",
                                    "90 (90+ in 1980 and 1990)",
                                    "female",
                                    "grade 12",
                                    "38400.0"
                                ],
                                [
                                    "3492",
                                    "less than 1 year old",
                                    "male",
                                    "n/a or no schooling",
                                    null
                                ],
                                [
                                    "3512",
                                    "less than 1 year old",
                                    "female",
                                    "n/a or no schooling",
                                    null
                                ],
                                [
                                    "3565",
                                    "less than 1 year old",
                                    "female",
                                    "n/a or no schooling",
                                    null
                                ]
                            ],
                            "shape": {
                                "columns": 4,
                                "rows": 3630
                            }
                        },
                        "text/html": [
                            "<div>\n",
                            "<style scoped>\n",
                            "    .dataframe tbody tr th:only-of-type {\n",
                            "        vertical-align: middle;\n",
                            "    }\n",
                            "\n",
                            "    .dataframe tbody tr th {\n",
                            "        vertical-align: top;\n",
                            "    }\n",
                            "\n",
                            "    .dataframe thead th {\n",
                            "        text-align: right;\n",
                            "    }\n",
                            "</style>\n",
                            "<table border=\"1\" class=\"dataframe\">\n",
                            "  <thead>\n",
                            "    <tr style=\"text-align: right;\">\n",
                            "      <th></th>\n",
                            "      <th>age</th>\n",
                            "      <th>sex</th>\n",
                            "      <th>educ</th>\n",
                            "      <th>inctot</th>\n",
                            "    </tr>\n",
                            "  </thead>\n",
                            "  <tbody>\n",
                            "    <tr>\n",
                            "      <th>37</th>\n",
                            "      <td>less than 1 year old</td>\n",
                            "      <td>female</td>\n",
                            "      <td>n/a or no schooling</td>\n",
                            "      <td>NaN</td>\n",
                            "    </tr>\n",
                            "    <tr>\n",
                            "      <th>90</th>\n",
                            "      <td>less than 1 year old</td>\n",
                            "      <td>female</td>\n",
                            "      <td>n/a or no schooling</td>\n",
                            "      <td>NaN</td>\n",
                            "    </tr>\n",
                            "    <tr>\n",
                            "      <th>140</th>\n",
                            "      <td>less than 1 year old</td>\n",
                            "      <td>female</td>\n",
                            "      <td>n/a or no schooling</td>\n",
                            "      <td>NaN</td>\n",
                            "    </tr>\n",
                            "    <tr>\n",
                            "      <th>179</th>\n",
                            "      <td>less than 1 year old</td>\n",
                            "      <td>female</td>\n",
                            "      <td>n/a or no schooling</td>\n",
                            "      <td>NaN</td>\n",
                            "    </tr>\n",
                            "    <tr>\n",
                            "      <th>359</th>\n",
                            "      <td>90 (90+ in 1980 and 1990)</td>\n",
                            "      <td>female</td>\n",
                            "      <td>1 year of college</td>\n",
                            "      <td>6000.0</td>\n",
                            "    </tr>\n",
                            "    <tr>\n",
                            "      <th>...</th>\n",
                            "      <td>...</td>\n",
                            "      <td>...</td>\n",
                            "      <td>...</td>\n",
                            "      <td>...</td>\n",
                            "    </tr>\n",
                            "    <tr>\n",
                            "      <th>318748</th>\n",
                            "      <td>less than 1 year old</td>\n",
                            "      <td>male</td>\n",
                            "      <td>n/a or no schooling</td>\n",
                            "      <td>NaN</td>\n",
                            "    </tr>\n",
                            "    <tr>\n",
                            "      <th>318849</th>\n",
                            "      <td>less than 1 year old</td>\n",
                            "      <td>male</td>\n",
                            "      <td>n/a or no schooling</td>\n",
                            "      <td>NaN</td>\n",
                            "    </tr>\n",
                            "    <tr>\n",
                            "      <th>318913</th>\n",
                            "      <td>less than 1 year old</td>\n",
                            "      <td>female</td>\n",
                            "      <td>n/a or no schooling</td>\n",
                            "      <td>NaN</td>\n",
                            "    </tr>\n",
                            "    <tr>\n",
                            "      <th>318971</th>\n",
                            "      <td>less than 1 year old</td>\n",
                            "      <td>male</td>\n",
                            "      <td>n/a or no schooling</td>\n",
                            "      <td>NaN</td>\n",
                            "    </tr>\n",
                            "    <tr>\n",
                            "      <th>318989</th>\n",
                            "      <td>less than 1 year old</td>\n",
                            "      <td>male</td>\n",
                            "      <td>n/a or no schooling</td>\n",
                            "      <td>NaN</td>\n",
                            "    </tr>\n",
                            "  </tbody>\n",
                            "</table>\n",
                            "<p>3630 rows × 4 columns</p>\n",
                            "</div>"
                        ],
                        "text/plain": [
                            "                              age     sex                 educ  inctot\n",
                            "37           less than 1 year old  female  n/a or no schooling     NaN\n",
                            "90           less than 1 year old  female  n/a or no schooling     NaN\n",
                            "140          less than 1 year old  female  n/a or no schooling     NaN\n",
                            "179          less than 1 year old  female  n/a or no schooling     NaN\n",
                            "359     90 (90+ in 1980 and 1990)  female    1 year of college  6000.0\n",
                            "...                           ...     ...                  ...     ...\n",
                            "318748       less than 1 year old    male  n/a or no schooling     NaN\n",
                            "318849       less than 1 year old    male  n/a or no schooling     NaN\n",
                            "318913       less than 1 year old  female  n/a or no schooling     NaN\n",
                            "318971       less than 1 year old    male  n/a or no schooling     NaN\n",
                            "318989       less than 1 year old    male  n/a or no schooling     NaN\n",
                            "\n",
                            "[3630 rows x 4 columns]"
                        ]
                    },
                    "execution_count": 11,
                    "metadata": {},
                    "output_type": "execute_result"
                }
            ],
            "source": [
                "acs2.loc[~acs2[\"age\"].str.isnumeric()]"
            ]
        },
        {
            "cell_type": "code",
            "execution_count": 12,
            "metadata": {},
            "outputs": [],
            "source": [
                "results = {}\n",
                "results[\"ex5_age_young\"] = \"less than 1 year old\"\n",
                "results[\"ex5_age_old\"] = \"90(90+ in 1980 and 1990)\""
            ]
        },
        {
            "cell_type": "markdown",
            "metadata": {},
            "source": [
                "### Exercise 6\n",
                "\n",
                "In order to convert `age` into a numeric variable, we need to replace those problematic entries with values that `pandas` can later convert into numbers. Pick appropriate substitutions for the existing values and replace the current values. \n",
                "\n",
                "**Hint 1:** Categorical variables act like strings, so you might want to use string methods! \n",
                "\n",
                "**Hint 2:** Remember that characters like parentheses, pluses, asterisks, etc. are special in Python strings, and you have to escape them if you want them to be interpreted literally!\n",
                "\n",
                "**Hint 3:** Because the US Census has been conducted regularly for hundreds of years but exactly how the census has been conducted have occasionally changed, variables are sometimes coded in a way that might be interpreted in different ways for different census years. For example, hypothetically, one might write `90 (90+ in 1980 and 1990)` if the Censuses conducted in 1980 and 1990 used to top-code age at 90 (any values *over* 90 were just coded as 90), but more recent Censuses no longer top-coded age and recorded ages over 90 as the respondents actual age."
            ]
        },
        {
            "cell_type": "code",
            "execution_count": 13,
            "metadata": {},
            "outputs": [],
            "source": [
                "acs2[\"age\"] = acs2[\"age\"].astype(str)\n",
                "acs2[\"age\"] = acs2[\"age\"].str.replace(\"less than 1 year old\", \"0\")\n",
                "acs2[\"age\"] = acs2[\"age\"].str.replace(\"90 (90+ in 1980 and 1990)\", \"90\")"
            ]
        },
        {
            "cell_type": "markdown",
            "metadata": {},
            "source": [
                "### Exercise 7\n",
                "\n",
                "Now convert age from a categorical to numeric. Calculate the average age amoung this group, and store it in `\"ex7_avg_age\"`."
            ]
        },
        {
            "cell_type": "code",
            "execution_count": 14,
            "metadata": {},
            "outputs": [
                {
                    "name": "stdout",
                    "output_type": "stream",
                    "text": [
                        "The average for all ages in the US Census is 41.30.\n"
                    ]
                }
            ],
            "source": [
                "acs2[\"age\"] = pd.to_numeric(acs2[\"age\"], errors=\"coerce\")\n",
                "results[\"ex7_avg_age\"] = acs2[\"age\"].mean()\n",
                "print(f\"The average for all ages in the US Census is {results['ex7_avg_age']:.2f}.\")"
            ]
        },
        {
            "cell_type": "markdown",
            "metadata": {},
            "source": [
                "### Exercise 8\n",
                "\n",
                "Let's now filter out anyone in our data whose age is less than 18. Note that before made `age` a numeric variable, we couldn't do this! Again, calculate the average age and this time store it in `\"ex8_avg_age\"`. \n",
                "\n",
                "Use this sample of people 18 and over for all subsequent exercises."
            ]
        },
        {
            "cell_type": "code",
            "execution_count": 15,
            "metadata": {},
            "outputs": [
                {
                    "name": "stdout",
                    "output_type": "stream",
                    "text": [
                        "The average mean for people over the age of 18 is 49.76.\n"
                    ]
                }
            ],
            "source": [
                "acs3 = acs2[acs2[\"age\"] >= 18].copy()\n",
                "results[\"ex8_avg_age\"] = acs3[\"age\"].mean()\n",
                "print(\n",
                "    f\"The average mean for people over the age of 18 is {results['ex8_avg_age']:.2f}.\"\n",
                ")"
            ]
        },
        {
            "cell_type": "markdown",
            "metadata": {},
            "source": [
                "### Exercise 9\n",
                "\n",
                "Create an indicator variable for whether each person has *at least* a college Bachelor's degree called `college_degree`. Use this variable to calculate the number of people in the dataset with a college degree. You may assume that to get a college degree you need to complete at least 4 years of college. Save the result as `\"ex9_num_college\"`."
            ]
        },
        {
            "cell_type": "code",
            "execution_count": 16,
            "metadata": {},
            "outputs": [
                {
                    "name": "stdout",
                    "output_type": "stream",
                    "text": [
                        "The number of people in the dataset with a college degree is 77013.\n"
                    ]
                }
            ],
            "source": [
                "acs3[\"college_degree\"] = acs3[\"educ\"].isin(\n",
                "    [\"4 years of college\", \"5+ years of college\"]\n",
                ")\n",
                "results[\"ex9_num_college\"] = acs3[\"college_degree\"].sum()\n",
                "print(\n",
                "    f\"The number of people in the dataset with a college degree is {results['ex9_num_college']}.\"\n",
                ")"
            ]
        },
        {
            "cell_type": "markdown",
            "metadata": {},
            "source": [
                "### Exercise 10\n",
                "\n",
                "Let's examine how the educational gender gap. Use `pd.crosstab` to create a cross-tabulation of `sex` and `college_degree`. `pd.crosstab` will give you the number of people who have each combination of `sex` and `college_degree` (so in this case, it will give us a 2x2 table with Male and Female as rows, and `college_degree` True and False as columns, or vice versa. "
            ]
        },
        {
            "cell_type": "code",
            "execution_count": 17,
            "metadata": {},
            "outputs": [],
            "source": [
                "ct_count = pd.crosstab(acs3[\"sex\"], acs3[\"college_degree\"])"
            ]
        },
        {
            "cell_type": "markdown",
            "metadata": {},
            "source": [
                "### Exercise 11\n",
                "\n",
                "Counts are kind of hard to interpret. `pd.crosstab` can also normalize values to give percentages. Look at the `pd.crosstab` help file to figure out how to normalize the values in the table. Normalize them so that you get the share of men with and without college degree, and the share of women with and without college degrees.\n",
                "\n",
                "Store the share (between 0 and 1) of men with college degrees in `\"ex11_share_male_w_degrees\"`, and the share of women with degrees in `\"ex11_share_female_w_degrees\"`."
            ]
        },
        {
            "cell_type": "code",
            "execution_count": 18,
            "metadata": {},
            "outputs": [
                {
                    "name": "stdout",
                    "output_type": "stream",
                    "text": [
                        "college_degree     False     True \n",
                        "sex                               \n",
                        "male            0.703439  0.296561\n",
                        "female          0.688381  0.311619\n",
                        "Share of men with college degrees is 0.30.\n",
                        "Share of women with college degrees is 0.31.\n"
                    ]
                }
            ],
            "source": [
                "ct_all = pd.crosstab(acs3[\"sex\"], acs3[\"college_degree\"], normalize=\"index\")\n",
                "results[\"ex11_share_male_w_degrees\"] = ct_all.loc[\"male\", True]\n",
                "results[\"ex11_share_female_w_degrees\"] = ct_all.loc[\"female\", True]\n",
                "print(ct_all)\n",
                "print(\n",
                "    f\"Share of men with college degrees is {results['ex11_share_male_w_degrees']:.2f}.\"\n",
                ")\n",
                "print(\n",
                "    f\"Share of women with college degrees is {results['ex11_share_female_w_degrees']:.2f}.\"\n",
                ")"
            ]
        },
        {
            "cell_type": "markdown",
            "metadata": {},
            "source": [
                "### Exercise 12\n",
                "\n",
                "Now, let's recreate that table for people who are 40 and over and people under 40. Over time, what does this suggest about the absolute difference in the share of men and women earning college degrees? Has it gotten larger, stayed the same, or gotten smaller? Store your answer (either `\"the absolute difference has increased\"` or `\"the absolute difference has decreased\"`) in `\"ex12_comparing\"`."
            ]
        },
        {
            "cell_type": "code",
            "execution_count": 19,
            "metadata": {},
            "outputs": [],
            "source": [
                "acs3[\"age_group\"] = np.where(acs3[\"age\"] >= 40, \"40_and_over\", \"under_40\")\n",
                "\n",
                "ct_by_age = pd.crosstab(\n",
                "    [acs3[\"age_group\"], acs3[\"sex\"]], acs3[\"college_degree\"], normalize=\"index\"\n",
                ")"
            ]
        },
        {
            "cell_type": "code",
            "execution_count": 20,
            "metadata": {},
            "outputs": [
                {
                    "data": {
                        "application/vnd.microsoft.datawrangler.viewer.v0+json": {
                            "columns": [
                                {
                                    "name": "('age_group', 'sex')",
                                    "rawType": "object",
                                    "type": "unknown"
                                },
                                {
                                    "name": "False",
                                    "rawType": "float64",
                                    "type": "float"
                                },
                                {
                                    "name": "True",
                                    "rawType": "float64",
                                    "type": "float"
                                }
                            ],
                            "ref": "0046bd2f-e272-4d71-89ae-2a12f0e4aff6",
                            "rows": [
                                [
                                    "('40_and_over', 'male')",
                                    "0.682123376541577",
                                    "0.3178766234584231"
                                ],
                                [
                                    "('40_and_over', 'female')",
                                    "0.6991435291999145",
                                    "0.30085647080008554"
                                ],
                                [
                                    "('under_40', 'male')",
                                    "0.7431427297684131",
                                    "0.25685727023158683"
                                ],
                                [
                                    "('under_40', 'female')",
                                    "0.6657104246188862",
                                    "0.3342895753811138"
                                ]
                            ],
                            "shape": {
                                "columns": 2,
                                "rows": 4
                            }
                        },
                        "text/html": [
                            "<div>\n",
                            "<style scoped>\n",
                            "    .dataframe tbody tr th:only-of-type {\n",
                            "        vertical-align: middle;\n",
                            "    }\n",
                            "\n",
                            "    .dataframe tbody tr th {\n",
                            "        vertical-align: top;\n",
                            "    }\n",
                            "\n",
                            "    .dataframe thead th {\n",
                            "        text-align: right;\n",
                            "    }\n",
                            "</style>\n",
                            "<table border=\"1\" class=\"dataframe\">\n",
                            "  <thead>\n",
                            "    <tr style=\"text-align: right;\">\n",
                            "      <th></th>\n",
                            "      <th>college_degree</th>\n",
                            "      <th>False</th>\n",
                            "      <th>True</th>\n",
                            "    </tr>\n",
                            "    <tr>\n",
                            "      <th>age_group</th>\n",
                            "      <th>sex</th>\n",
                            "      <th></th>\n",
                            "      <th></th>\n",
                            "    </tr>\n",
                            "  </thead>\n",
                            "  <tbody>\n",
                            "    <tr>\n",
                            "      <th rowspan=\"2\" valign=\"top\">40_and_over</th>\n",
                            "      <th>male</th>\n",
                            "      <td>0.682123</td>\n",
                            "      <td>0.317877</td>\n",
                            "    </tr>\n",
                            "    <tr>\n",
                            "      <th>female</th>\n",
                            "      <td>0.699144</td>\n",
                            "      <td>0.300856</td>\n",
                            "    </tr>\n",
                            "    <tr>\n",
                            "      <th rowspan=\"2\" valign=\"top\">under_40</th>\n",
                            "      <th>male</th>\n",
                            "      <td>0.743143</td>\n",
                            "      <td>0.256857</td>\n",
                            "    </tr>\n",
                            "    <tr>\n",
                            "      <th>female</th>\n",
                            "      <td>0.665710</td>\n",
                            "      <td>0.334290</td>\n",
                            "    </tr>\n",
                            "  </tbody>\n",
                            "</table>\n",
                            "</div>"
                        ],
                        "text/plain": [
                            "college_degree         False     True \n",
                            "age_group   sex                       \n",
                            "40_and_over male    0.682123  0.317877\n",
                            "            female  0.699144  0.300856\n",
                            "under_40    male    0.743143  0.256857\n",
                            "            female  0.665710  0.334290"
                        ]
                    },
                    "execution_count": 20,
                    "metadata": {},
                    "output_type": "execute_result"
                }
            ],
            "source": [
                "ct_by_age"
            ]
        },
        {
            "cell_type": "code",
            "execution_count": 23,
            "metadata": {},
            "outputs": [
                {
                    "name": "stdout",
                    "output_type": "stream",
                    "text": [
                        "Difference under 40 is 0.08\n",
                        "Difference above 40 is 0.02\n",
                        "Overtime the absolute difference has increased.\n"
                    ]
                }
            ],
            "source": [
                "abs_diff_under40 = abs(\n",
                "    ct_by_age.loc[(\"under_40\", \"male\"), True]\n",
                "    - ct_by_age.loc[(\"under_40\", \"female\"), True]\n",
                ")\n",
                "abs_diff_above40 = abs(\n",
                "    ct_by_age.loc[(\"40_and_over\", \"male\"), True]\n",
                "    - ct_by_age.loc[(\"40_and_over\", \"female\"), True]\n",
                ")\n",
                "\n",
                "print(f\"Difference under 40 is {abs_diff_under40:.2f}\")\n",
                "print(f\"Difference above 40 is {abs_diff_above40:.2f}\")\n",
                "\n",
                "results[\"ex12_comparing\"] = \"the absolute difference has increased\"\n",
                "print(f\"Overtime {results['ex12_comparing']}.\")"
            ]
        },
        {
            "cell_type": "markdown",
            "metadata": {},
            "source": [
                "### Exercise 13\n",
                "\n",
                "In words, what is causing the change noted in Exercise 12 (i.e., looking at the tables above, tell me a story about Men and Women's College attainment)."
            ]
        },
        {
            "cell_type": "markdown",
            "metadata": {},
            "source": [
                "\n",
                "In the older generation (40 and over), men and women had roughly equal rates of college attainment, with about 32% of men and 30% of women holding a degree. Among younger adults (under 40), the pattern shifts: only 25.7% of men have a college degree, compared with 33.4% of women. This indicates that women’s college attainment has increased faster than men’s over time, resulting in a larger absolute gender gap in the younger generation."
            ]
        },
        {
            "cell_type": "markdown",
            "metadata": {},
            "source": [
                "## Want More Practice?\n",
                "\n",
                "Calculate the educational racial gap in the United States for White Americans, Black Americans, Hispanic Americans, and other groups. \n",
                "\n",
                "Note that to do these calculations, you'll have to deal with the fact that unlike most Americans, the American Census Bureau treats \"Hispanic\" not as a racial category, but a linguistic one. As a result, the racial category \"White\" in `race` actually includes most Hispanic Americans. For this analysis, we wish to work with the mutually exclusive categories of \"White, non-Hispanic\", \"White, Hispanic\", \"Black (Hispanic or non-Hispanic)\", and a category for everyone else. "
            ]
        },
        {
            "cell_type": "code",
            "execution_count": null,
            "metadata": {},
            "outputs": [],
            "source": []
        }
    ],
    "metadata": {
        "kernelspec": {
            "display_name": "base",
            "language": "python",
            "name": "python3"
        },
        "language_info": {
            "codemirror_mode": {
                "name": "ipython",
                "version": 3
            },
            "file_extension": ".py",
            "mimetype": "text/x-python",
            "name": "python",
            "nbconvert_exporter": "python",
            "pygments_lexer": "ipython3",
            "version": "3.12.11"
        }
    },
    "nbformat": 4,
    "nbformat_minor": 4
}
